{
 "cells": [
  {
   "cell_type": "markdown",
   "metadata": {},
   "source": [
    "### Importing all the required libraries"
   ]
  },
  {
   "cell_type": "code",
   "execution_count": 1,
   "metadata": {},
   "outputs": [],
   "source": [
    "%matplotlib inline\n",
    "import torch\n",
    "import numpy as np\n",
    "import torch.nn as nn\n",
    "import torch.nn.functional as F\n",
    "import matplotlib.pyplot as plt\n",
    "from torchvision import transforms, datasets\n",
    "from torch.utils.data import DataLoader, TensorDataset\n",
    "from torch import Tensor\n",
    "import time\n",
    "import os\n",
    "import pandas as pd\n",
    "from skimage import io, transform, color\n",
    "from sklearn.preprocessing import OneHotEncoder\n",
    "from sklearn.model_selection import train_test_split\n",
    "import torch.optim as optim"
   ]
  },
  {
   "cell_type": "markdown",
   "metadata": {},
   "source": [
    "### Declaring the LeNet model"
   ]
  },
  {
   "cell_type": "code",
   "execution_count": 2,
   "metadata": {},
   "outputs": [],
   "source": [
    "class LeNet(nn.Module):\n",
    "    def __init__(self):\n",
    "        super(LeNet, self).__init__()\n",
    "        self.conv1 = nn.Conv2d(1, 6, kernel_size=5)\n",
    "        self.pool1 = nn.MaxPool2d(kernel_size=2,stride=2)\n",
    "        self.conv2 = nn.Conv2d(6, 16, kernel_size=5)\n",
    "        self.pool2 = nn.MaxPool2d(kernel_size=2,stride=2)        \n",
    "        self.fc1 = nn.Linear(400, 120)\n",
    "        self.fc2 = nn.Linear(120, 84)\n",
    "        self.fc3 = nn.Linear(84, 10)\n",
    "\n",
    "    def forward(self, x):\n",
    "        x = F.relu(self.conv1(x))\n",
    "        x = self.pool1(x)\n",
    "        x = F.relu(self.conv2(x))\n",
    "        x = self.pool2(x)\n",
    "        x = x.view(-1, 400)\n",
    "        x = F.relu(self.fc1(x)) \n",
    "        x = F.relu(self.fc2(x))\n",
    "        x = self.fc3(x)\n",
    "        return F.log_softmax(x,dim=1)"
   ]
  },
  {
   "cell_type": "markdown",
   "metadata": {},
   "source": [
    "### Image Preprocessing\n",
    "#### 1. The images were read using the excel file in the dataset which helped in labelling the images.\n",
    "#### 2. Conversion of RGB image into Grayscale Image\n",
    "#### 3. Resizing all the images into 1 X 32 X 32 pixels\n",
    "#### 4. Conversion of images into tensors"
   ]
  },
  {
   "cell_type": "code",
   "execution_count": 3,
   "metadata": {},
   "outputs": [
    {
     "name": "stdout",
     "output_type": "stream",
     "text": [
      "      name  label\n",
      "0  digit_1      4\n",
      "1  digit_2      2\n",
      "2  digit_3      3\n",
      "3  digit_4      1\n",
      "4  digit_5      2\n",
      "(32, 32)\n"
     ]
    },
    {
     "data": {
      "image/png": "[encoded data removed]",
      "text/plain": [
       "<Figure size 432x288 with 1 Axes>"
      ]
     },
     "metadata": {
      "needs_background": "light"
     },
     "output_type": "display_data"
    },
    {
     "data": {
      "image/png": "[encoded data removed]",
      "text/plain": [
       "<Figure size 576x360 with 1 Axes>"
      ]
     },
     "metadata": {
      "needs_background": "light"
     },
     "output_type": "display_data"
    },
    {
     "name": "stdout",
     "output_type": "stream",
     "text": [
      "data size: 1392\n"
     ]
    },
    {
     "data": {
      "text/plain": [
       "torch.Size([1, 32, 32])"
      ]
     },
     "execution_count": 3,
     "metadata": {},
     "output_type": "execute_result"
    }
   ],
   "source": [
    "file_path = 'C:/Users/krishnakant/Downloads/SEM 8/DL/Assignments/Bengali digit/BDRW_train_1'\n",
    "# Creating dataloader\n",
    "labels = pd.read_excel(os.path.join(file_path,'labels.xls'))\n",
    "labels.columns = ['name', 'label']\n",
    "plt.hist(labels.label, label='Image Density Distribution')\n",
    "print(labels.head(5))\n",
    "data = [];x = [];y = [];k = 1\n",
    "for i in labels.name:\n",
    "    img_name = os.path.join(file_path,\"{}.jpg\".format(i)) # image path for every image\n",
    "    img = io.imread(img_name) # loading the image using the image path\n",
    "    img = color.rgb2gray(img)\n",
    "    x += [img.shape[0]] # recording the height of original image\n",
    "    y += [img.shape[1]] # recording the width of original image\n",
    "    img = transform.resize(img, (32,32)) # resizing the image into 32*32*3\n",
    "    if k == 1:\n",
    "        print(img.shape)\n",
    "        fig = plt.figure(figsize = (8,5))\n",
    "        plt.imshow(img, cmap = 'gray')\n",
    "        plt.tight_layout()\n",
    "        plt.show()\n",
    "    k += 1 \n",
    "#     img = img.transpose((2, 0, 1)) # convering the image to 3*32*32\n",
    "    img = torch.from_numpy(img) # convering the image to tensor\n",
    "    img = img.view(1,32,32)\n",
    "    data.append(img) # appending all the images to form the dataset\n",
    "\n",
    "# print(np.array(labels.label))\n",
    "# onehot_encoder = OneHotEncoder(sparse=False)\n",
    "# y_labels = onehot_encoder.fit_transform(np.array(labels.label).reshape(-1,1))\n",
    "\n",
    "# print(np.mean(x),np.mean(y))\n",
    "\n",
    "print('data size:',str(len(data)))\n",
    "\n",
    "# y_labels[:5]\n",
    "data[1].size()"
   ]
  },
  {
   "cell_type": "markdown",
   "metadata": {},
   "source": [
    "## Division of dataset into Train and Test data\n",
    "### The image dataset was first divided into test and train dataset in 1:4 ratio\n",
    "#### Then X_train and y_train was merged to create a train dataset and the process repeated for test dataset\n",
    "#### DataLoaders were created for better imteraction with the model"
   ]
  },
  {
   "cell_type": "code",
   "execution_count": 4,
   "metadata": {},
   "outputs": [
    {
     "name": "stdout",
     "output_type": "stream",
     "text": [
      "1113 279 1113 279\n",
      "tensor([[[0.9938, 0.9907, 0.9901,  ..., 0.9976, 0.9953, 0.9944],\n",
      "         [0.9918, 0.9862, 0.9850,  ..., 0.9957, 0.9952, 0.9949],\n",
      "         [0.9942, 0.9884, 0.9885,  ..., 0.9938, 0.9946, 0.9931],\n",
      "         ...,\n",
      "         [0.9750, 0.9828, 0.9829,  ..., 0.9912, 0.9917, 0.9929],\n",
      "         [0.9759, 0.9854, 0.9877,  ..., 0.9966, 0.9978, 0.9974],\n",
      "         [0.9874, 0.9917, 0.9922,  ..., 0.9980, 0.9986, 0.9994]]],\n",
      "       dtype=torch.float64) \n",
      " 0\n",
      "train set size: 1113| test set size: 279\n",
      "torch.Size([10, 1, 32, 32])\n"
     ]
    }
   ],
   "source": [
    "# Spliting the data into train and test data sets\n",
    "BatchSize = 10\n",
    "X_train, X_test, y_train, y_test = train_test_split(data, np.array(labels.label), test_size = 0.2, random_state = 0)\n",
    "\n",
    "print(len(X_train), len(X_test), len(y_train), len(y_test))\n",
    "train_data = []\n",
    "for j in range(len(X_train)):\n",
    "    train_data.append([X_train[j],y_train[j]])\n",
    "\n",
    "test_data = []\n",
    "for j in range(len(X_test)):\n",
    "    test_data.append([X_test[j],y_test[j]])\n",
    "\n",
    "for i in train_data:\n",
    "    k,s = i\n",
    "    print(k,'\\n',s)\n",
    "    break\n",
    "    \n",
    "# Creating dataloader\n",
    "trainLoader = DataLoader(train_data, batch_size=BatchSize,\n",
    "                                        shuffle=True, num_workers=4)\n",
    "\n",
    "# Validation set \n",
    "testLoader = DataLoader(test_data, batch_size=BatchSize,\n",
    "                                        shuffle=False, num_workers=4)\n",
    "# Size of train and test datasets\n",
    "print('train set size: '+str(len(trainLoader.dataset))+'| test set size: '+str(len(testLoader.dataset)))\n",
    "\n",
    "for i in trainLoader:\n",
    "    p,q = i\n",
    "    print(p.size())\n",
    "    break"
   ]
  },
  {
   "cell_type": "markdown",
   "metadata": {},
   "source": [
    "## Model training code\n",
    "### Crossentropy loss was taken for loss estimation and SGD was used for optimisation of the model\n"
   ]
  },
  {
   "cell_type": "code",
   "execution_count": 5,
   "metadata": {},
   "outputs": [],
   "source": [
    "def train(net, trainLoader, optimizer, criterion, num_epochs):\n",
    "    train_loss = []\n",
    "    train_acc = []\n",
    "    for epoch in range(num_epochs):\n",
    "        running_loss = 0.0 \n",
    "        running_corr = 0\n",
    "        for i,data in enumerate(trainLoader):\n",
    "            inputs,labels = data\n",
    "            # Initializing model gradients to zero\n",
    "            optimizer.zero_grad() \n",
    "            # Data feed-forward through the network\n",
    "            outputs = net(inputs.float())\n",
    "            # Predicted class is the one with maximum probability\n",
    "            preds = torch.argmax(outputs,dim=1)\n",
    "            # Finding the loss\n",
    "            loss = criterion(outputs, labels)\n",
    "            # Accumulating the loss for each batch\n",
    "            running_loss += loss \n",
    "            # Accumulate number of correct predictions\n",
    "            running_corr += torch.sum(preds==labels)\n",
    "            # Calculating gradients\n",
    "            loss.backward()\n",
    "            # Updating the model parameters\n",
    "            optimizer.step()\n",
    "\n",
    "        totalLoss = running_loss/(i+1)\n",
    "    \n",
    "        epoch_loss = running_loss.item()/(i+1)   #Total loss for one epoch\n",
    "        epoch_acc = running_corr.item()/1113.0\n",
    "    \n",
    "        train_loss.append(epoch_loss) #Saving the loss over epochs for plotting the graph\n",
    "        train_acc.append(epoch_acc) #Saving the accuracy over epochs for plotting the graph\n",
    "\n",
    "        print('Epoch {:.0f}/{:.0f} : Training loss: {:.4f} | Training Accuracy: {:.4f}'.format(epoch+1,num_epochs,epoch_loss,epoch_acc*100))\n",
    "    return epoch_acc*100, epoch_loss, train_loss, train_acc"
   ]
  },
  {
   "cell_type": "markdown",
   "metadata": {},
   "source": [
    "### Function for predicting the test data"
   ]
  },
  {
   "cell_type": "code",
   "execution_count": 6,
   "metadata": {},
   "outputs": [],
   "source": [
    "def test(net, testLoader):\n",
    "    correct_pred = 0\n",
    "    for data in testLoader:\n",
    "        inputs,labels = data\n",
    "        # Feedforward train data batch through model\n",
    "        output = net(inputs.float()) \n",
    "        # Predicted class is the one with maximum probability\n",
    "        preds = torch.argmax(output,dim=1)\n",
    "        correct_pred += torch.sum(preds==labels)\n",
    "\n",
    "    test_accuracy = correct_pred.item()/279.0\n",
    "    print('Testing accuracy = ',test_accuracy*100)"
   ]
  },
  {
   "cell_type": "markdown",
   "metadata": {},
   "source": [
    "### After trying various combinations of learning rate and batchsize, model yielded the best results at lr = 0.01 and batch size = 10 \n",
    "#### ->It has a trainin accuracy of 99.64% and testing accuracy of 89.60%"
   ]
  },
  {
   "cell_type": "code",
   "execution_count": 7,
   "metadata": {
    "scrolled": false
   },
   "outputs": [
    {
     "name": "stdout",
     "output_type": "stream",
     "text": [
      "for learning rate 0.01 and batch size 10\n",
      "Epoch 1/50 : Training loss: 2.3010 | Training Accuracy: 10.4223\n",
      "Epoch 2/50 : Training loss: 2.2728 | Training Accuracy: 18.0593\n",
      "Epoch 3/50 : Training loss: 2.2533 | Training Accuracy: 20.5750\n",
      "Epoch 4/50 : Training loss: 2.2388 | Training Accuracy: 20.5750\n",
      "Epoch 5/50 : Training loss: 2.2252 | Training Accuracy: 20.5750\n",
      "Epoch 6/50 : Training loss: 2.2192 | Training Accuracy: 20.5750\n",
      "Epoch 7/50 : Training loss: 2.2125 | Training Accuracy: 20.5750\n",
      "Epoch 8/50 : Training loss: 2.2097 | Training Accuracy: 20.5750\n",
      "Epoch 9/50 : Training loss: 2.2054 | Training Accuracy: 20.5750\n",
      "Epoch 10/50 : Training loss: 2.2036 | Training Accuracy: 20.5750\n",
      "Epoch 11/50 : Training loss: 2.2035 | Training Accuracy: 20.5750\n",
      "Epoch 12/50 : Training loss: 2.2004 | Training Accuracy: 20.5750\n",
      "Epoch 13/50 : Training loss: 2.1959 | Training Accuracy: 20.5750\n",
      "Epoch 14/50 : Training loss: 2.1847 | Training Accuracy: 22.1923\n",
      "Epoch 15/50 : Training loss: 2.1729 | Training Accuracy: 25.3369\n",
      "Epoch 16/50 : Training loss: 2.1487 | Training Accuracy: 27.8527\n",
      "Epoch 17/50 : Training loss: 2.0912 | Training Accuracy: 27.7628\n",
      "Epoch 18/50 : Training loss: 1.9965 | Training Accuracy: 27.9425\n",
      "Epoch 19/50 : Training loss: 1.9182 | Training Accuracy: 30.5481\n",
      "Epoch 20/50 : Training loss: 1.8317 | Training Accuracy: 35.1303\n",
      "Epoch 21/50 : Training loss: 1.7408 | Training Accuracy: 41.5993\n",
      "Epoch 22/50 : Training loss: 1.6185 | Training Accuracy: 47.5292\n",
      "Epoch 23/50 : Training loss: 1.4629 | Training Accuracy: 56.2444\n",
      "Epoch 24/50 : Training loss: 1.2671 | Training Accuracy: 63.5220\n",
      "Epoch 25/50 : Training loss: 1.0997 | Training Accuracy: 66.6667\n",
      "Epoch 26/50 : Training loss: 0.9260 | Training Accuracy: 73.0458\n",
      "Epoch 27/50 : Training loss: 0.7999 | Training Accuracy: 75.5615\n",
      "Epoch 28/50 : Training loss: 0.6616 | Training Accuracy: 79.2453\n",
      "Epoch 29/50 : Training loss: 0.5694 | Training Accuracy: 83.4681\n",
      "Epoch 30/50 : Training loss: 0.4887 | Training Accuracy: 84.6361\n",
      "Epoch 31/50 : Training loss: 0.4361 | Training Accuracy: 87.3315\n",
      "Epoch 32/50 : Training loss: 0.3482 | Training Accuracy: 90.7457\n",
      "Epoch 33/50 : Training loss: 0.2866 | Training Accuracy: 91.8239\n",
      "Epoch 34/50 : Training loss: 0.2592 | Training Accuracy: 91.5544\n",
      "Epoch 35/50 : Training loss: 0.2211 | Training Accuracy: 93.1716\n",
      "Epoch 36/50 : Training loss: 0.1953 | Training Accuracy: 94.3396\n",
      "Epoch 37/50 : Training loss: 0.1748 | Training Accuracy: 94.9686\n",
      "Epoch 38/50 : Training loss: 0.1283 | Training Accuracy: 96.5858\n",
      "Epoch 39/50 : Training loss: 0.1807 | Training Accuracy: 95.1482\n",
      "Epoch 40/50 : Training loss: 0.1135 | Training Accuracy: 96.9452\n",
      "Epoch 41/50 : Training loss: 0.0933 | Training Accuracy: 97.7538\n",
      "Epoch 42/50 : Training loss: 0.1407 | Training Accuracy: 96.4960\n",
      "Epoch 43/50 : Training loss: 0.0726 | Training Accuracy: 98.3827\n",
      "Epoch 44/50 : Training loss: 0.0590 | Training Accuracy: 99.1914\n",
      "Epoch 45/50 : Training loss: 0.0460 | Training Accuracy: 99.1914\n",
      "Epoch 46/50 : Training loss: 0.0405 | Training Accuracy: 99.3711\n",
      "Epoch 47/50 : Training loss: 0.0378 | Training Accuracy: 99.3711\n",
      "Epoch 48/50 : Training loss: 0.0287 | Training Accuracy: 99.5508\n",
      "Epoch 49/50 : Training loss: 0.0374 | Training Accuracy: 99.1015\n",
      "Epoch 50/50 : Training loss: 0.0266 | Training Accuracy: 99.6406\n",
      "Testing accuracy =  89.6057347670251\n"
     ]
    }
   ],
   "source": [
    "criterion = nn.CrossEntropyLoss() \n",
    "learning_rate = 0.01\n",
    "num_epochs = 50\n",
    "# acc_score = np.zeros([5, 5], dtype=float)\n",
    "# Tacc_score = np.zeros([5, 5, 20], dtype=float)\n",
    "# loss_score = np.zeros([5, 5], dtype=float)\n",
    "# Tloss_score = np.zeros([5, 5, 20], dtype=float)\n",
    "net = LeNet()\n",
    "net = net.float()\n",
    "optimizer = optim.SGD(net.parameters(), lr=learning_rate)\n",
    "print('for learning rate {0} and batch size {1}'.format(learning_rate,BatchSize))\n",
    "acc, los, Tloss_score, Tacc_score= train(net, trainLoader, optimizer, criterion, num_epochs)\n",
    "acc_score = acc\n",
    "loss_score = los\n",
    "test(net, testLoader)"
   ]
  },
  {
   "cell_type": "markdown",
   "metadata": {},
   "source": [
    "### Summary of the model (including model space and compute complexity)"
   ]
  },
  {
   "cell_type": "code",
   "execution_count": 8,
   "metadata": {
    "scrolled": false
   },
   "outputs": [
    {
     "name": "stdout",
     "output_type": "stream",
     "text": [
      "LeNet(\n",
      "  (conv1): Conv2d(1, 6, kernel_size=(5, 5), stride=(1, 1))\n",
      "  (pool1): MaxPool2d(kernel_size=2, stride=2, padding=0, dilation=1, ceil_mode=False)\n",
      "  (conv2): Conv2d(6, 16, kernel_size=(5, 5), stride=(1, 1))\n",
      "  (pool2): MaxPool2d(kernel_size=2, stride=2, padding=0, dilation=1, ceil_mode=False)\n",
      "  (fc1): Linear(in_features=400, out_features=120, bias=True)\n",
      "  (fc2): Linear(in_features=120, out_features=84, bias=True)\n",
      "  (fc3): Linear(in_features=84, out_features=10, bias=True)\n",
      ")\n",
      "------------------------------------------------------------------------------------------\n",
      "Layer (type:depth-idx)                   Output Shape              Param #\n",
      "==========================================================================================\n",
      "├─Conv2d: 1-1                            [-1, 6, 28, 28]           156\n",
      "├─MaxPool2d: 1-2                         [-1, 6, 14, 14]           --\n",
      "├─Conv2d: 1-3                            [-1, 16, 10, 10]          2,416\n",
      "├─MaxPool2d: 1-4                         [-1, 16, 5, 5]            --\n",
      "├─Linear: 1-5                            [-1, 120]                 48,120\n",
      "├─Linear: 1-6                            [-1, 84]                  10,164\n",
      "├─Linear: 1-7                            [-1, 10]                  850\n",
      "==========================================================================================\n",
      "Total params: 61,706\n",
      "Trainable params: 61,706\n",
      "Non-trainable params: 0\n",
      "------------------------------------------------------------------------------------------\n",
      "Input size (MB): 0.00\n",
      "Forward/backward pass size (MB): 0.05\n",
      "Params size (MB): 0.24\n",
      "Estimated Total Size (MB): 0.29\n",
      "------------------------------------------------------------------------------------------\n",
      "\n"
     ]
    },
    {
     "data": {
      "text/plain": [
       "------------------------------------------------------------------------------------------\n",
       "Layer (type:depth-idx)                   Output Shape              Param #\n",
       "==========================================================================================\n",
       "├─Conv2d: 1-1                            [-1, 6, 28, 28]           156\n",
       "├─MaxPool2d: 1-2                         [-1, 6, 14, 14]           --\n",
       "├─Conv2d: 1-3                            [-1, 16, 10, 10]          2,416\n",
       "├─MaxPool2d: 1-4                         [-1, 16, 5, 5]            --\n",
       "├─Linear: 1-5                            [-1, 120]                 48,120\n",
       "├─Linear: 1-6                            [-1, 84]                  10,164\n",
       "├─Linear: 1-7                            [-1, 10]                  850\n",
       "==========================================================================================\n",
       "Total params: 61,706\n",
       "Trainable params: 61,706\n",
       "Non-trainable params: 0\n",
       "------------------------------------------------------------------------------------------\n",
       "Input size (MB): 0.00\n",
       "Forward/backward pass size (MB): 0.05\n",
       "Params size (MB): 0.24\n",
       "Estimated Total Size (MB): 0.29\n",
       "------------------------------------------------------------------------------------------"
      ]
     },
     "execution_count": 8,
     "metadata": {},
     "output_type": "execute_result"
    }
   ],
   "source": [
    "from torchvision import models\n",
    "from torchsummary import summary\n",
    "\n",
    "print(net)\n",
    "summary(net, (1,32,32))"
   ]
  },
  {
   "cell_type": "markdown",
   "metadata": {},
   "source": [
    "### Ploting the graph of accuracy score and crossentropy loss against number of epochs"
   ]
  },
  {
   "cell_type": "code",
   "execution_count": 13,
   "metadata": {},
   "outputs": [
    {
     "data": {
      "image/png": "[encoded data removed]",
      "text/plain": [
       "<Figure size 1008x432 with 2 Axes>"
      ]
     },
     "metadata": {
      "needs_background": "light"
     },
     "output_type": "display_data"
    }
   ],
   "source": [
    "fig = plt.figure(figsize=[14,6])\n",
    "plt.style.use('ggplot')\n",
    "plt.subplot(1,2,1)\n",
    "plt.plot(range(1,51),[x*100 for x in Tacc_score],'b-',label='Training Accuracy') \n",
    "plt.legend(loc='lower right')\n",
    "plt.xlabel('No of Epochs', size = 16)\n",
    "plt.ylabel('Training accuracy', size = 16)\n",
    "plt.subplot(1,2,2)\n",
    "plt.plot(range(1,51),Tloss_score,'b-',label='Training Loss') \n",
    "plt.legend(loc='upper right')\n",
    "plt.xlabel('No of Epochs', size = 16)\n",
    "plt.ylabel('Training Loss', size = 16)\n",
    "plt.show()"
   ]
  }
 ],
 "metadata": {
  "kernelspec": {
   "display_name": "Python 3",
   "language": "python",
   "name": "python3"
  },
  "language_info": {
   "codemirror_mode": {
    "name": "ipython",
    "version": 3
   },
   "file_extension": ".py",
   "mimetype": "text/x-python",
   "name": "python",
   "nbconvert_exporter": "python",
   "pygments_lexer": "ipython3",
   "version": "3.7.8"
  }
 },
 "nbformat": 4,
 "nbformat_minor": 4
}
